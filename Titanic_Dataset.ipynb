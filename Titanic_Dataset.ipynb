{
 "cells": [
  {
   "cell_type": "code",
   "execution_count": 2,
   "metadata": {},
   "outputs": [],
   "source": [
    "import numpy as np\n",
    "import pandas as pd\n",
    "import seaborn as sns\n",
    "import matplotlib.pyplot as plt\n",
    "\n",
    "from sklearn.linear_model import LogisticRegression\n",
    "from sklearn.neighbors import KNeighborsClassifier\n",
    "from sklearn.svm import SVC\n",
    "from sklearn.ensemble import RandomForestClassifier\n",
    "\n",
    "\n",
    "from sklearn.preprocessing import Imputer, LabelEncoder, OneHotEncoder\n",
    "from sklearn.model_selection import train_test_split\n",
    "\n",
    "import warnings\n",
    "warnings.filterwarnings('ignore')"
   ]
  },
  {
   "cell_type": "code",
   "execution_count": null,
   "metadata": {},
   "outputs": [],
   "source": [
    "dataset=pd.read_csv('train.csv')\n",
    "y=dataset['Survived'].values\n",
    "del dataset['Survived']\n",
    "del dataset['Name']\n",
    "del dataset['Ticket']\n",
    "del dataset['PassengerId']\n",
    "\n",
    "dataset['Has_cabin']=dataset[\"Cabin\"].apply(lambda x: 0 if type(x) == float else 1)\n",
    "del dataset['Cabin']\n",
    "\n",
    "dataset['Family']=dataset['Parch'] + dataset['SibSp'] + 1\n",
    "#del dataset['Parch']\n",
    "#del dataset['SibSp']\n",
    "dataset['Is_alone']= dataset['Family'].apply(lambda x: 0 if x > 1 else 1)\n",
    "\n",
    "age_avg = dataset['Age'].mean()\n",
    "dataset['Age']=dataset['Age'].fillna(age_avg).astype(int)\n",
    "dataset.loc[ dataset['Age'] <= 16, 'Age']= 4\n",
    "dataset.loc[(dataset['Age'] > 16) & (dataset['Age'] <= 32), 'Age'] = 3\n",
    "dataset.loc[(dataset['Age'] > 32) & (dataset['Age'] <= 48), 'Age'] = 2\n",
    "dataset.loc[(dataset['Age'] > 48) & (dataset['Age'] <= 64), 'Age'] = 1\n",
    "dataset.loc[ dataset['Age'] > 64, 'Age'] = 0\n",
    "\n",
    "dataset['Fare'] = dataset['Fare'].fillna(dataset['Fare'].median()).astype(int)\n",
    "dataset.loc[ dataset['Fare'] <= 7.91, 'Fare'] = 0\n",
    "dataset.loc[(dataset['Fare'] > 7.91) & (dataset['Fare'] <= 14.454), 'Fare'] = 1\n",
    "dataset.loc[(dataset['Fare'] > 14.454) & (dataset['Fare'] <= 31), 'Fare']   = 2\n",
    "dataset.loc[ dataset['Fare'] > 31, 'Fare'] = 3 \n",
    "    \n",
    "dataset['Embarked']= dataset['Embarked'].fillna('C')\n",
    "#dataset['Embarked'] = dataset['Embarked'].map( {'S': 0, 'C': 1, 'Q': 2} ). astype(int)\n",
    "cols = list(dataset.columns.values) \n",
    "print(cols)\n",
    "#dataset=dataset[[ 'Sex', 'Age', 'SibSp', 'Parch', 'Fare', 'Has_cabin', 'Family', 'Is_alone']]\n",
    "X=dataset.values\n",
    "label_encoder_sex=LabelEncoder()\n",
    "X[:,1]=label_encoder_sex.fit_transform(X[:,0])\n",
    "\n",
    "label_encoder_e=LabelEncoder()\n",
    "X[:,6]=label_encoder_e.fit_transform(X[:,6])\n",
    "\n",
    "one_encoder=OneHotEncoder(categorical_features=[6])\n",
    "X = one_encoder.fit_transform(X).toarray()\n",
    "\n",
    "\n"
   ]
  },
  {
   "cell_type": "code",
   "execution_count": 2,
   "metadata": {},
   "outputs": [
    {
     "ename": "NameError",
     "evalue": "name 'train_test_split' is not defined",
     "output_type": "error",
     "traceback": [
      "\u001b[1;31m---------------------------------------------------------------------------\u001b[0m",
      "\u001b[1;31mNameError\u001b[0m                                 Traceback (most recent call last)",
      "\u001b[1;32m<ipython-input-2-0f38041e65fc>\u001b[0m in \u001b[0;36m<module>\u001b[1;34m()\u001b[0m\n\u001b[0;32m      1\u001b[0m \u001b[1;32mfrom\u001b[0m \u001b[0msklearn\u001b[0m\u001b[1;33m.\u001b[0m\u001b[0mfeature_selection\u001b[0m \u001b[1;32mimport\u001b[0m \u001b[0mRFECV\u001b[0m\u001b[1;33m\u001b[0m\u001b[0m\n\u001b[0;32m      2\u001b[0m \u001b[1;32mfrom\u001b[0m \u001b[0msklearn\u001b[0m\u001b[1;33m.\u001b[0m\u001b[0mmodel_selection\u001b[0m \u001b[1;32mimport\u001b[0m \u001b[0mGridSearchCV\u001b[0m\u001b[1;33m\u001b[0m\u001b[0m\n\u001b[1;32m----> 3\u001b[1;33m \u001b[0mX_train\u001b[0m\u001b[1;33m,\u001b[0m \u001b[0mX_test\u001b[0m\u001b[1;33m,\u001b[0m \u001b[0my_train\u001b[0m\u001b[1;33m,\u001b[0m \u001b[0my_test\u001b[0m\u001b[1;33m=\u001b[0m\u001b[0mtrain_test_split\u001b[0m\u001b[1;33m(\u001b[0m\u001b[0mX\u001b[0m\u001b[1;33m[\u001b[0m\u001b[1;33m:\u001b[0m\u001b[1;33m,\u001b[0m\u001b[1;36m1\u001b[0m\u001b[1;33m:\u001b[0m\u001b[1;33m]\u001b[0m\u001b[1;33m,\u001b[0m\u001b[0my\u001b[0m\u001b[1;33m,\u001b[0m\u001b[0mtest_size\u001b[0m\u001b[1;33m=\u001b[0m\u001b[1;36m0.1\u001b[0m\u001b[1;33m,\u001b[0m\u001b[0mrandom_state\u001b[0m\u001b[1;33m=\u001b[0m\u001b[1;36m0\u001b[0m\u001b[1;33m)\u001b[0m\u001b[1;33m\u001b[0m\u001b[0m\n\u001b[0m\u001b[0;32m      4\u001b[0m \u001b[1;33m\u001b[0m\u001b[0m\n\u001b[0;32m      5\u001b[0m \u001b[1;33m\u001b[0m\u001b[0m\n",
      "\u001b[1;31mNameError\u001b[0m: name 'train_test_split' is not defined"
     ]
    }
   ],
   "source": [
    "from sklearn.feature_selection import RFECV\n",
    "from sklearn.model_selection import GridSearchCV\n",
    "X_train, X_test, y_train, y_test=train_test_split(X[:,1:],y,test_size=0.1,random_state=0)\n",
    "\n",
    "\n",
    "estimator= ExtraTreesClassifier()\n",
    "param_grid1 = {'n_estimators': [5,10,15,20,25,30,40,50],'max_features':['auto','sqrt','log2'],'criterion':[\"gini\",'entropy']}\n",
    "\n",
    "\n",
    "\n",
    "\n",
    "#selector = RFECV(estimator, step=1, cv=5)\n",
    "clf1 = GridSearchCV(estimator, param_grid1, cv=10)\n",
    "clf1.fit(X_train, np.ravel(y_train))\n",
    "print(clf1.best_estimator_)\n",
    "\n",
    "\n",
    "\n",
    "\n"
   ]
  },
  {
   "cell_type": "code",
   "execution_count": 3,
   "metadata": {},
   "outputs": [
    {
     "ename": "NameError",
     "evalue": "name 'train_test_split' is not defined",
     "output_type": "error",
     "traceback": [
      "\u001b[1;31m---------------------------------------------------------------------------\u001b[0m",
      "\u001b[1;31mNameError\u001b[0m                                 Traceback (most recent call last)",
      "\u001b[1;32m<ipython-input-3-5d6c6bc82594>\u001b[0m in \u001b[0;36m<module>\u001b[1;34m()\u001b[0m\n\u001b[0;32m      3\u001b[0m \u001b[1;33m\u001b[0m\u001b[0m\n\u001b[0;32m      4\u001b[0m \u001b[1;32mfor\u001b[0m \u001b[0mi\u001b[0m \u001b[1;32min\u001b[0m \u001b[0mrange\u001b[0m\u001b[1;33m(\u001b[0m\u001b[1;36m2\u001b[0m\u001b[1;33m)\u001b[0m\u001b[1;33m:\u001b[0m\u001b[1;33m\u001b[0m\u001b[0m\n\u001b[1;32m----> 5\u001b[1;33m     \u001b[0mX_train\u001b[0m\u001b[1;33m,\u001b[0m \u001b[0mX_test\u001b[0m\u001b[1;33m,\u001b[0m \u001b[0my_train\u001b[0m\u001b[1;33m,\u001b[0m \u001b[0my_test\u001b[0m\u001b[1;33m=\u001b[0m\u001b[0mtrain_test_split\u001b[0m\u001b[1;33m(\u001b[0m\u001b[0mX\u001b[0m\u001b[1;33m[\u001b[0m\u001b[1;33m:\u001b[0m\u001b[1;33m,\u001b[0m\u001b[1;36m1\u001b[0m\u001b[1;33m:\u001b[0m\u001b[1;33m]\u001b[0m\u001b[1;33m,\u001b[0m\u001b[0my\u001b[0m\u001b[1;33m,\u001b[0m\u001b[0mtest_size\u001b[0m\u001b[1;33m=\u001b[0m\u001b[1;36m0.1\u001b[0m\u001b[1;33m,\u001b[0m\u001b[0mrandom_state\u001b[0m\u001b[1;33m=\u001b[0m\u001b[1;36m0\u001b[0m\u001b[1;33m)\u001b[0m\u001b[1;33m\u001b[0m\u001b[0m\n\u001b[0m\u001b[0;32m      6\u001b[0m \u001b[1;33m\u001b[0m\u001b[0m\n\u001b[0;32m      7\u001b[0m \u001b[1;33m\u001b[0m\u001b[0m\n",
      "\u001b[1;31mNameError\u001b[0m: name 'train_test_split' is not defined"
     ]
    }
   ],
   "source": [
    "from sklearn.feature_selection import RFECV\n",
    "from sklearn.model_selection import GridSearchCV\n",
    "\n",
    "for i in range(2):\n",
    "    X_train, X_test, y_train, y_test=train_test_split(X[:,1:],y,test_size=0.1,random_state=0)\n",
    "\n",
    "\n",
    "\n",
    "    param_grid1 = {'n_neighbors': [28,30,22],'leaf_size':[20,15,5]}\n",
    "    estimator1 = ExtraTreesClassifier()\n",
    "#selector = RFECV(estimator, step=1, cv=5)\n",
    "    clf1 = GridSearchCV(estimator1, param_grid1, cv=5)\n",
    "    clf1.fit(X_train, np.ravel(y_train))\n",
    "    print(clf1.best_estimator_)\n",
    "   # print(clf1.grid_scores_)\n",
    " #   print(clf1.ranking_)\n",
    "\n",
    "\n",
    "#y_pred_lg_train=clf1.predict(X_train)\n",
    "#y_pred_lg_test=clf1.predict(X_test)\n",
    "\n",
    "#accuracies=cross_val_score(estimator=clf1, X=X_train, y=y_train, cv=10, scoring='accuracy')\n",
    "\"\"\"\n",
    "print(accuracies.mean())\n",
    "\n",
    "\n",
    "\n",
    "\n",
    "\n",
    "\n",
    "\n",
    "\n",
    "\n",
    "\n",
    "\n",
    "\n",
    "\n",
    "\n",
    "y_pred_knn_train=knn.predict(X_train)\n",
    "y_pred_knn_test=knn.predict(X_test)\n",
    "\n",
    "accuracies=cross_val_score(estimator=knn, X=X_train, y=y_train, cv=10, scoring='accuracy')\n",
    "print(accuracies.mean())\n",
    "\"\"\""
   ]
  },
  {
   "cell_type": "code",
   "execution_count": 22,
   "metadata": {},
   "outputs": [
    {
     "name": "stdout",
     "output_type": "stream",
     "text": [
      "[0.75746269 0.70786517 0.72932331]\n"
     ]
    }
   ],
   "source": [
    "# Feature Scaling\n",
    "    from sklearn.preprocessing import StandardScaler\n",
    "    sc = StandardScaler()\n",
    "    X_train = sc.fit_transform(X_train)\n",
    "    X_test = sc.transform(X_test)\n",
    "    from sklearn.feature_selection import RFECV\n",
    "    from sklearn.model_selection import GridSearchCV\n",
    "    from sklearn.linear_model import LogisticRegression\n",
    "    estimator = LogisticRegression()\n",
    "    score=cross_val_score(estimator,X_train,y_train)\n",
    "    param_grid = [{'estimator__penalty': ['l1','l2'],'estimator__C':[1,1.5,2]}]\n",
    "    \"\"\"\n",
    "    selector = RFECV(estimator, step=1, cv=5)\n",
    "    clf = GridSearchCV(selector, param_grid, cv=5)\n",
    "    clf.fit(X_train, np.ravel(y_train))\n",
    "    print(clf.best_estimator_.estimator_)\n",
    "    print(clf.best_estimator_.grid_scores_)\n",
    "    print(clf.best_estimator_.ranking_)\n",
    "    clf.best_estimator_.n_features_\n",
    "    \"\"\"\n",
    "    print(score)"
   ]
  },
  {
   "cell_type": "code",
   "execution_count": null,
   "metadata": {},
   "outputs": [],
   "source": []
  },
  {
   "cell_type": "code",
   "execution_count": 11,
   "metadata": {},
   "outputs": [
    {
     "name": "stderr",
     "output_type": "stream",
     "text": [
      "Using TensorFlow backend.\n"
     ]
    }
   ],
   "source": [
    "import keras\n",
    "from keras.models import Sequential\n",
    "from keras.layers import Dense"
   ]
  },
  {
   "cell_type": "code",
   "execution_count": 30,
   "metadata": {},
   "outputs": [],
   "source": [
    "classifier = Sequential()\n",
    "classifier.add(Dense(units=5,init=\"uniform\",activation='relu',input_dim=11))\n",
    "classifier.add(Dense(units=5,init=\"uniform\",activation='relu'))\n",
    "classifier.add(Dense(units=1,init=\"uniform\",activation='sigmoid'))\n",
    "#activation='softmax')) if output categories greater than 2\n",
    "classifier.compile(optimizer=\"adam\",loss=\"binary_crossentropy\",metrics= ['accuracy'])\n",
    "#loss=category_crossentropy for output categories >2"
   ]
  },
  {
   "cell_type": "code",
   "execution_count": 32,
   "metadata": {},
   "outputs": [],
   "source": [
    "classifier.compile(optimizer=\"adam\",loss=\"binary_crossentropy\",metrics=['accuracy'])"
   ]
  },
  {
   "cell_type": "code",
   "execution_count": 33,
   "metadata": {},
   "outputs": [
    {
     "name": "stdout",
     "output_type": "stream",
     "text": [
      "Epoch 1/100\n",
      "801/801 [==============================] - 0s 451us/step - loss: 0.6893 - acc: 0.6092\n",
      "Epoch 2/100\n",
      "801/801 [==============================] - 0s 224us/step - loss: 0.6566 - acc: 0.6130\n",
      "Epoch 3/100\n",
      "801/801 [==============================] - 0s 260us/step - loss: 0.5956 - acc: 0.6130\n",
      "Epoch 4/100\n",
      "801/801 [==============================] - 0s 167us/step - loss: 0.5625 - acc: 0.6130\n",
      "Epoch 5/100\n",
      "801/801 [==============================] - 0s 177us/step - loss: 0.5476 - acc: 0.6130\n",
      "Epoch 6/100\n",
      "801/801 [==============================] - 0s 152us/step - loss: 0.5377 - acc: 0.6130\n",
      "Epoch 7/100\n",
      "801/801 [==============================] - 0s 157us/step - loss: 0.5308 - acc: 0.7990\n",
      "Epoch 8/100\n",
      "801/801 [==============================] - 0s 207us/step - loss: 0.5247 - acc: 0.8040\n",
      "Epoch 9/100\n",
      "801/801 [==============================] - 0s 314us/step - loss: 0.5182 - acc: 0.8077\n",
      "Epoch 10/100\n",
      "801/801 [==============================] - 0s 157us/step - loss: 0.5118 - acc: 0.8065\n",
      "Epoch 11/100\n",
      "801/801 [==============================] - 0s 180us/step - loss: 0.5054 - acc: 0.8015\n",
      "Epoch 12/100\n",
      "801/801 [==============================] - 0s 187us/step - loss: 0.4995 - acc: 0.8052\n",
      "Epoch 13/100\n",
      "801/801 [==============================] - 0s 186us/step - loss: 0.4944 - acc: 0.8090\n",
      "Epoch 14/100\n",
      "801/801 [==============================] - 0s 173us/step - loss: 0.4893 - acc: 0.8115\n",
      "Epoch 15/100\n",
      "801/801 [==============================] - 0s 171us/step - loss: 0.4848 - acc: 0.8102\n",
      "Epoch 16/100\n",
      "801/801 [==============================] - 0s 165us/step - loss: 0.4813 - acc: 0.8090\n",
      "Epoch 17/100\n",
      "801/801 [==============================] - 0s 167us/step - loss: 0.4776 - acc: 0.8102\n",
      "Epoch 18/100\n",
      "801/801 [==============================] - 0s 168us/step - loss: 0.4737 - acc: 0.8127\n",
      "Epoch 19/100\n",
      "801/801 [==============================] - 0s 156us/step - loss: 0.4710 - acc: 0.8140\n",
      "Epoch 20/100\n",
      "801/801 [==============================] - 0s 162us/step - loss: 0.4686 - acc: 0.8190\n",
      "Epoch 21/100\n",
      "801/801 [==============================] - 0s 164us/step - loss: 0.4659 - acc: 0.8177\n",
      "Epoch 22/100\n",
      "801/801 [==============================] - 0s 169us/step - loss: 0.4633 - acc: 0.8240\n",
      "Epoch 23/100\n",
      "801/801 [==============================] - 0s 175us/step - loss: 0.4613 - acc: 0.8177\n",
      "Epoch 24/100\n",
      "801/801 [==============================] - 0s 154us/step - loss: 0.4586 - acc: 0.8215\n",
      "Epoch 25/100\n",
      "801/801 [==============================] - 0s 170us/step - loss: 0.4569 - acc: 0.8202\n",
      "Epoch 26/100\n",
      "801/801 [==============================] - 0s 168us/step - loss: 0.4550 - acc: 0.8202\n",
      "Epoch 27/100\n",
      "801/801 [==============================] - 0s 166us/step - loss: 0.4531 - acc: 0.8215\n",
      "Epoch 28/100\n",
      "801/801 [==============================] - 0s 187us/step - loss: 0.4520 - acc: 0.8215\n",
      "Epoch 29/100\n",
      "801/801 [==============================] - 0s 175us/step - loss: 0.4501 - acc: 0.8215\n",
      "Epoch 30/100\n",
      "801/801 [==============================] - 0s 174us/step - loss: 0.4488 - acc: 0.8215\n",
      "Epoch 31/100\n",
      "801/801 [==============================] - 0s 163us/step - loss: 0.4476 - acc: 0.8227\n",
      "Epoch 32/100\n",
      "801/801 [==============================] - 0s 181us/step - loss: 0.4464 - acc: 0.8190\n",
      "Epoch 33/100\n",
      "801/801 [==============================] - 0s 161us/step - loss: 0.4459 - acc: 0.8227\n",
      "Epoch 34/100\n",
      "801/801 [==============================] - 0s 182us/step - loss: 0.4444 - acc: 0.8252\n",
      "Epoch 35/100\n",
      "801/801 [==============================] - 0s 185us/step - loss: 0.4442 - acc: 0.8227\n",
      "Epoch 36/100\n",
      "801/801 [==============================] - 0s 171us/step - loss: 0.4422 - acc: 0.8227\n",
      "Epoch 37/100\n",
      "801/801 [==============================] - 0s 175us/step - loss: 0.4415 - acc: 0.8265\n",
      "Epoch 38/100\n",
      "801/801 [==============================] - 0s 263us/step - loss: 0.4416 - acc: 0.8277\n",
      "Epoch 39/100\n",
      "801/801 [==============================] - 0s 366us/step - loss: 0.4402 - acc: 0.8265\n",
      "Epoch 40/100\n",
      "801/801 [==============================] - 0s 204us/step - loss: 0.4390 - acc: 0.8277\n",
      "Epoch 41/100\n",
      "801/801 [==============================] - 0s 370us/step - loss: 0.4384 - acc: 0.8252\n",
      "Epoch 42/100\n",
      "801/801 [==============================] - 0s 203us/step - loss: 0.4368 - acc: 0.8290\n",
      "Epoch 43/100\n",
      "801/801 [==============================] - 0s 202us/step - loss: 0.4367 - acc: 0.8277\n",
      "Epoch 44/100\n",
      "801/801 [==============================] - 0s 193us/step - loss: 0.4361 - acc: 0.8265\n",
      "Epoch 45/100\n",
      "801/801 [==============================] - 0s 168us/step - loss: 0.4347 - acc: 0.8315\n",
      "Epoch 46/100\n",
      "801/801 [==============================] - 0s 157us/step - loss: 0.4350 - acc: 0.8252\n",
      "Epoch 47/100\n",
      "801/801 [==============================] - 0s 238us/step - loss: 0.4346 - acc: 0.8302\n",
      "Epoch 48/100\n",
      "801/801 [==============================] - 0s 340us/step - loss: 0.4335 - acc: 0.8290\n",
      "Epoch 49/100\n",
      "801/801 [==============================] - 0s 176us/step - loss: 0.4340 - acc: 0.8290\n",
      "Epoch 50/100\n",
      "801/801 [==============================] - 0s 150us/step - loss: 0.4319 - acc: 0.8290\n",
      "Epoch 51/100\n",
      "801/801 [==============================] - 0s 174us/step - loss: 0.4319 - acc: 0.8240\n",
      "Epoch 52/100\n",
      "801/801 [==============================] - 0s 166us/step - loss: 0.4326 - acc: 0.8277\n",
      "Epoch 53/100\n",
      "801/801 [==============================] - 0s 159us/step - loss: 0.4306 - acc: 0.8277\n",
      "Epoch 54/100\n",
      "801/801 [==============================] - 0s 135us/step - loss: 0.4305 - acc: 0.8290\n",
      "Epoch 55/100\n",
      "801/801 [==============================] - 0s 132us/step - loss: 0.4302 - acc: 0.8302\n",
      "Epoch 56/100\n",
      "801/801 [==============================] - 0s 136us/step - loss: 0.4296 - acc: 0.8265\n",
      "Epoch 57/100\n",
      "801/801 [==============================] - 0s 130us/step - loss: 0.4290 - acc: 0.8290\n",
      "Epoch 58/100\n",
      "801/801 [==============================] - 0s 122us/step - loss: 0.4283 - acc: 0.8277\n",
      "Epoch 59/100\n",
      "801/801 [==============================] - 0s 147us/step - loss: 0.4276 - acc: 0.8327\n",
      "Epoch 60/100\n",
      "801/801 [==============================] - 0s 188us/step - loss: 0.4279 - acc: 0.8290\n",
      "Epoch 61/100\n",
      "801/801 [==============================] - 0s 263us/step - loss: 0.4276 - acc: 0.8315\n",
      "Epoch 62/100\n",
      "801/801 [==============================] - 0s 339us/step - loss: 0.4269 - acc: 0.8352\n",
      "Epoch 63/100\n",
      "801/801 [==============================] - 0s 319us/step - loss: 0.4264 - acc: 0.8265\n",
      "Epoch 64/100\n",
      "801/801 [==============================] - 0s 271us/step - loss: 0.4261 - acc: 0.8290\n",
      "Epoch 65/100\n",
      "801/801 [==============================] - 0s 262us/step - loss: 0.4254 - acc: 0.8290\n",
      "Epoch 66/100\n",
      "801/801 [==============================] - 0s 164us/step - loss: 0.4254 - acc: 0.8290\n",
      "Epoch 67/100\n",
      "801/801 [==============================] - 0s 166us/step - loss: 0.4256 - acc: 0.8302\n",
      "Epoch 68/100\n",
      "801/801 [==============================] - 0s 161us/step - loss: 0.4241 - acc: 0.8302\n",
      "Epoch 69/100\n",
      "801/801 [==============================] - 0s 216us/step - loss: 0.4243 - acc: 0.8302\n",
      "Epoch 70/100\n",
      "801/801 [==============================] - 0s 251us/step - loss: 0.4233 - acc: 0.8277\n",
      "Epoch 71/100\n",
      "801/801 [==============================] - 0s 184us/step - loss: 0.4217 - acc: 0.8290\n",
      "Epoch 72/100\n",
      "801/801 [==============================] - 0s 174us/step - loss: 0.4201 - acc: 0.8277\n",
      "Epoch 73/100\n",
      "801/801 [==============================] - 0s 189us/step - loss: 0.4185 - acc: 0.8277\n",
      "Epoch 74/100\n",
      "801/801 [==============================] - 0s 351us/step - loss: 0.4169 - acc: 0.8315\n",
      "Epoch 75/100\n",
      "801/801 [==============================] - 0s 207us/step - loss: 0.4147 - acc: 0.8340\n",
      "Epoch 76/100\n",
      "801/801 [==============================] - 0s 158us/step - loss: 0.4141 - acc: 0.8377\n",
      "Epoch 77/100\n",
      "801/801 [==============================] - 0s 137us/step - loss: 0.4145 - acc: 0.8365\n",
      "Epoch 78/100\n",
      "801/801 [==============================] - 0s 185us/step - loss: 0.4117 - acc: 0.8327\n",
      "Epoch 79/100\n",
      "801/801 [==============================] - 0s 235us/step - loss: 0.4106 - acc: 0.8365\n",
      "Epoch 80/100\n",
      "801/801 [==============================] - 0s 242us/step - loss: 0.4098 - acc: 0.8340\n",
      "Epoch 81/100\n",
      "801/801 [==============================] - 0s 219us/step - loss: 0.4087 - acc: 0.8377\n",
      "Epoch 82/100\n",
      "801/801 [==============================] - 0s 250us/step - loss: 0.4078 - acc: 0.8365\n",
      "Epoch 83/100\n",
      "801/801 [==============================] - 0s 235us/step - loss: 0.4073 - acc: 0.8327\n",
      "Epoch 84/100\n",
      "801/801 [==============================] - 0s 246us/step - loss: 0.4077 - acc: 0.8352\n",
      "Epoch 85/100\n",
      "801/801 [==============================] - 0s 238us/step - loss: 0.4054 - acc: 0.8352\n",
      "Epoch 86/100\n",
      "801/801 [==============================] - 0s 254us/step - loss: 0.4055 - acc: 0.8365\n",
      "Epoch 87/100\n",
      "801/801 [==============================] - 0s 252us/step - loss: 0.4050 - acc: 0.8352\n",
      "Epoch 88/100\n",
      "801/801 [==============================] - 0s 216us/step - loss: 0.4039 - acc: 0.8315\n",
      "Epoch 89/100\n",
      "801/801 [==============================] - 0s 182us/step - loss: 0.4044 - acc: 0.8340\n",
      "Epoch 90/100\n",
      "801/801 [==============================] - 0s 192us/step - loss: 0.4024 - acc: 0.8340\n",
      "Epoch 91/100\n",
      "801/801 [==============================] - 0s 182us/step - loss: 0.4017 - acc: 0.8365\n",
      "Epoch 92/100\n",
      "801/801 [==============================] - 0s 172us/step - loss: 0.4011 - acc: 0.8327\n",
      "Epoch 93/100\n",
      "801/801 [==============================] - 0s 144us/step - loss: 0.4014 - acc: 0.8265\n",
      "Epoch 94/100\n",
      "801/801 [==============================] - 0s 154us/step - loss: 0.4003 - acc: 0.8352\n",
      "Epoch 95/100\n",
      "801/801 [==============================] - 0s 193us/step - loss: 0.4003 - acc: 0.8365\n",
      "Epoch 96/100\n",
      "801/801 [==============================] - 0s 180us/step - loss: 0.4004 - acc: 0.8327\n",
      "Epoch 97/100\n",
      "801/801 [==============================] - 0s 147us/step - loss: 0.3988 - acc: 0.8327\n",
      "Epoch 98/100\n",
      "801/801 [==============================] - 0s 179us/step - loss: 0.3986 - acc: 0.8340\n",
      "Epoch 99/100\n",
      "801/801 [==============================] - 0s 188us/step - loss: 0.3983 - acc: 0.8315\n",
      "Epoch 100/100\n",
      "801/801 [==============================] - 0s 197us/step - loss: 0.3985 - acc: 0.8327\n"
     ]
    },
    {
     "data": {
      "text/plain": [
       "<keras.callbacks.History at 0x7f74717a8278>"
      ]
     },
     "execution_count": 33,
     "metadata": {},
     "output_type": "execute_result"
    }
   ],
   "source": [
    "classifier.fit(X_train,y_train,batch_size=10,epochs=100)"
   ]
  },
  {
   "cell_type": "code",
   "execution_count": 44,
   "metadata": {},
   "outputs": [
    {
     "data": {
      "text/plain": [
       "array([[False],\n",
       "       [False],\n",
       "       [False],\n",
       "       [False],\n",
       "       [ True],\n",
       "       [ True],\n",
       "       [False],\n",
       "       [False],\n",
       "       [False],\n",
       "       [ True],\n",
       "       [ True],\n",
       "       [ True],\n",
       "       [False],\n",
       "       [ True],\n",
       "       [False],\n",
       "       [False],\n",
       "       [ True],\n",
       "       [False],\n",
       "       [False],\n",
       "       [False],\n",
       "       [False],\n",
       "       [ True],\n",
       "       [False],\n",
       "       [ True],\n",
       "       [False],\n",
       "       [ True],\n",
       "       [False],\n",
       "       [False],\n",
       "       [ True],\n",
       "       [False],\n",
       "       [ True],\n",
       "       [ True],\n",
       "       [False],\n",
       "       [ True],\n",
       "       [False],\n",
       "       [ True],\n",
       "       [False],\n",
       "       [False],\n",
       "       [False],\n",
       "       [False],\n",
       "       [False],\n",
       "       [False],\n",
       "       [False],\n",
       "       [False],\n",
       "       [False],\n",
       "       [False],\n",
       "       [False],\n",
       "       [ True],\n",
       "       [False],\n",
       "       [False],\n",
       "       [ True],\n",
       "       [ True],\n",
       "       [False],\n",
       "       [False],\n",
       "       [False],\n",
       "       [False],\n",
       "       [False],\n",
       "       [ True],\n",
       "       [ True],\n",
       "       [ True],\n",
       "       [False],\n",
       "       [False],\n",
       "       [False],\n",
       "       [False],\n",
       "       [False],\n",
       "       [False],\n",
       "       [ True],\n",
       "       [ True],\n",
       "       [False],\n",
       "       [False],\n",
       "       [False],\n",
       "       [False],\n",
       "       [False],\n",
       "       [False],\n",
       "       [False],\n",
       "       [False],\n",
       "       [ True],\n",
       "       [False],\n",
       "       [ True],\n",
       "       [ True],\n",
       "       [False],\n",
       "       [False],\n",
       "       [False],\n",
       "       [False],\n",
       "       [ True],\n",
       "       [False],\n",
       "       [False],\n",
       "       [False],\n",
       "       [False],\n",
       "       [ True]])"
      ]
     },
     "execution_count": 44,
     "metadata": {},
     "output_type": "execute_result"
    }
   ],
   "source": [
    "# Fitting classifier to the Training set\n",
    "# Create your classifier here\n",
    "\n",
    "# Predicting the Test set results\n",
    "y_pred = classifier.predict(X_test)\n",
    "\n",
    "y_pred=(y_pred>0.45)\n",
    "y_pred"
   ]
  },
  {
   "cell_type": "code",
   "execution_count": 45,
   "metadata": {},
   "outputs": [
    {
     "data": {
      "text/plain": [
       "array([[49,  9],\n",
       "       [13, 19]])"
      ]
     },
     "execution_count": 45,
     "metadata": {},
     "output_type": "execute_result"
    }
   ],
   "source": [
    "# Making the Confusion Matrix\n",
    "from sklearn.metrics import confusion_matrix\n",
    "cm = confusion_matrix(y_test, y_pred)\n",
    "cm"
   ]
  },
  {
   "cell_type": "code",
   "execution_count": 36,
   "metadata": {},
   "outputs": [
    {
     "data": {
      "text/plain": [
       "0.7777777777777778"
      ]
     },
     "execution_count": 36,
     "metadata": {},
     "output_type": "execute_result"
    }
   ],
   "source": []
  },
  {
   "cell_type": "code",
   "execution_count": 37,
   "metadata": {},
   "outputs": [
    {
     "name": "stdout",
     "output_type": "stream",
     "text": [
      "0.8202314814814814\n"
     ]
    }
   ],
   "source": [
    "svm= SVC()\n",
    "svm.fit(X_train,y_train)\n",
    "\n",
    "y_pred_svm_train=svm.predict(X_train)\n",
    "y_pred_svm_test=svm.predict(X_test)\n",
    "\n",
    "accuracies=cross_val_score(estimator=svm, X=X_train, y=y_train, cv=10, scoring='accuracy')\n",
    "print(accuracies.mean())"
   ]
  },
  {
   "cell_type": "code",
   "execution_count": null,
   "metadata": {},
   "outputs": [],
   "source": []
  },
  {
   "cell_type": "code",
   "execution_count": 12,
   "metadata": {},
   "outputs": [
    {
     "name": "stdout",
     "output_type": "stream",
     "text": [
      "LogisticRegression(C=1.5, class_weight=None, dual=False, fit_intercept=True,\n",
      "          intercept_scaling=1, max_iter=100, multi_class='ovr', n_jobs=1,\n",
      "          penalty='l2', random_state=None, solver='liblinear', tol=0.0001,\n",
      "          verbose=0, warm_start=False)\n",
      "[0.65433806 0.65929138 0.6754717  0.68923005 0.70795734 0.71168405\n",
      " 0.71294191 0.71668425 0.71666862 0.71291066 0.71915309]\n",
      "[1 1 1 1 1 1 1 1 1 1 1]\n",
      "0.7179928504453821\n"
     ]
    },
    {
     "data": {
      "text/plain": [
       "\"\\n\\n\\n\\nlg= LogisticRegression()\\nlg.fit(X_train,y_train)\\n\\ny_pred_lg_train=lg.predict(X_train)\\ny_pred_lg_test=lg.predict(X_test)\\n\\naccuracies=cross_val_score(estimator=lg, X=X_train, y=y_train, cv=10, scoring='accuracy')\\nprint(accuracies.mean())\\n\""
      ]
     },
     "execution_count": 12,
     "metadata": {},
     "output_type": "execute_result"
    }
   ],
   "source": [
    "\n",
    "from sklearn.feature_selection import RFECV\n",
    "from sklearn.model_selection import GridSearchCV\n",
    "from sklearn.linear_model import LogisticRegression\n",
    "param_grid = [{'estimator__penalty': ['l1','l2'],'estimator__C':[1,1.5,2]}]\n",
    "estimator = LogisticRegression()\n",
    "selector = RFECV(estimator, step=1, cv=5)\n",
    "clf = GridSearchCV(selector, param_grid, cv=5)\n",
    "clf.fit(X_train, np.ravel(y_train))\n",
    "print(clf.best_estimator_.estimator_)\n",
    "print(clf.best_estimator_.grid_scores_)\n",
    "print(clf.best_estimator_.ranking_)\n",
    "#clf.best_estimator_.n_features_\n",
    "\n",
    "\n",
    "y_pred_lg_train=clf.predict(X_train)\n",
    "y_pred_lg_test=clf.predict(X_test)\n",
    "\n",
    "accuracies=cross_val_score(estimator=clf, X=X_train, y=y_train, cv=10, scoring='accuracy')\n",
    "print(accuracies.mean())\n",
    "\n",
    "\n",
    "\"\"\"\n",
    "\n",
    "\n",
    "\n",
    "lg= LogisticRegression()\n",
    "lg.fit(X_train,y_train)\n",
    "\n",
    "y_pred_lg_train=lg.predict(X_train)\n",
    "y_pred_lg_test=lg.predict(X_test)\n",
    "\n",
    "accuracies=cross_val_score(estimator=lg, X=X_train, y=y_train, cv=10, scoring='accuracy')\n",
    "print(accuracies.mean())\n",
    "\"\"\""
   ]
  },
  {
   "cell_type": "code",
   "execution_count": 77,
   "metadata": {},
   "outputs": [
    {
     "name": "stdout",
     "output_type": "stream",
     "text": [
      "KNeighborsClassifier(algorithm='auto', leaf_size=30, metric='minkowski',\n",
      "           metric_params=None, n_jobs=1, n_neighbors=11, p=2,\n",
      "           weights='uniform')\n",
      "0.790318995155493\n",
      "0.7928355993123926\n"
     ]
    }
   ],
   "source": []
  },
  {
   "cell_type": "code",
   "execution_count": 19,
   "metadata": {},
   "outputs": [
    {
     "name": "stdout",
     "output_type": "stream",
     "text": [
      "0.7652394905453977\n"
     ]
    }
   ],
   "source": [
    "nb= GaussianNB()\n",
    "nb.fit(X_train,y_train)\n",
    "\n",
    "y_pred_nb_train=nb.predict(X_train)\n",
    "y_pred_nb_test=nb.predict(X_test)\n",
    "\n",
    "accuracies=cross_val_score(estimator=nb, X=X_train, y=y_train, cv=10, scoring='accuracy')\n",
    "print(accuracies.mean())"
   ]
  },
  {
   "cell_type": "code",
   "execution_count": 38,
   "metadata": {},
   "outputs": [
    {
     "name": "stdout",
     "output_type": "stream",
     "text": [
      "0.812726793248945\n"
     ]
    }
   ],
   "source": []
  },
  {
   "cell_type": "code",
   "execution_count": 41,
   "metadata": {},
   "outputs": [
    {
     "name": "stdout",
     "output_type": "stream",
     "text": [
      "0.8102264025629005\n"
     ]
    }
   ],
   "source": [
    "etc= ExtraTreesClassifier(n_estimators=20)\n",
    "etc.fit(X_train,y_train)\n",
    "\n",
    "y_pred_etc_train=etc.predict(X_train)\n",
    "y_pred_etc_test=etc.predict(X_test)\n",
    "\n",
    "accuracies=cross_val_score(estimator=etc, X=X_train, y=y_train, cv=10, scoring='accuracy')\n",
    "print(accuracies.mean())"
   ]
  },
  {
   "cell_type": "code",
   "execution_count": 59,
   "metadata": {},
   "outputs": [
    {
     "name": "stdout",
     "output_type": "stream",
     "text": [
      "0.8013996327551179\n"
     ]
    }
   ],
   "source": [
    "ab= AdaBoostClassifier(n_estimators=50)\n",
    "ab.fit(X_train,y_train)\n",
    "\n",
    "y_pred_ab_train=ab.predict(X_train)\n",
    "y_pred_ab_test=ab.predict(X_test)\n",
    "\n",
    "accuracies=cross_val_score(estimator=ab, X=X_train, y=y_train, cv=10, scoring='accuracy')\n",
    "print(accuracies.mean())"
   ]
  },
  {
   "cell_type": "code",
   "execution_count": 23,
   "metadata": {},
   "outputs": [
    {
     "name": "stdout",
     "output_type": "stream",
     "text": [
      "0.8152746522894203\n"
     ]
    }
   ],
   "source": [
    "gb= GradientBoostingClassifier()\n",
    "gb.fit(X_train,y_train)\n",
    "\n",
    "y_pred_gb_train=gb.predict(X_train)\n",
    "y_pred_gb_test=gb.predict(X_test)\n",
    "\n",
    "accuracies=cross_val_score(estimator=gb, X=X_train, y=y_train, cv=10, scoring='accuracy')\n",
    "print(accuracies.mean())"
   ]
  },
  {
   "cell_type": "code",
   "execution_count": 24,
   "metadata": {},
   "outputs": [],
   "source": [
    "base_predictions_train = pd.DataFrame( {\n",
    "    'LG': y_pred_lg_train.ravel(),\n",
    "    'NB':  y_pred_nb_train.ravel(),\n",
    "    'RF' :  y_pred_rf_train.ravel(),\n",
    "    'AB' :  y_pred_ab_train.ravel(),\n",
    "    'GB' :  y_pred_gb_train.ravel(),\n",
    "    'KNN' :  y_pred_knn_train.ravel(),\n",
    "    'SVM' :  y_pred_svm_train.ravel(),\n",
    "    'ETC':  y_pred_etc_train.ravel()\n",
    "    })\n",
    "\n",
    "base_predictions_test = pd.DataFrame( {\n",
    "    'LG': y_pred_lg_test.ravel(),\n",
    "    'NB':  y_pred_nb_test.ravel(),\n",
    "    'RF' :  y_pred_rf_test.ravel(),\n",
    "    'AB' :  y_pred_ab_test.ravel(),\n",
    "    'GB' :  y_pred_gb_test.ravel(),\n",
    "    'KNN' :  y_pred_knn_test.ravel(),\n",
    "    'SVM' :  y_pred_svm_test.ravel(),\n",
    "    'ETC':  y_pred_etc_test.ravel()\n",
    "    })"
   ]
  },
  {
   "cell_type": "code",
   "execution_count": 25,
   "metadata": {},
   "outputs": [
    {
     "data": {
      "text/plain": [
       "<matplotlib.axes._subplots.AxesSubplot at 0x7fb257396d68>"
      ]
     },
     "execution_count": 25,
     "metadata": {},
     "output_type": "execute_result"
    },
    {
     "data": {
      "image/png": "[encoded data removed]",
      "text/plain": [
       "<matplotlib.figure.Figure at 0x7fb257396128>"
      ]
     },
     "metadata": {},
     "output_type": "display_data"
    }
   ],
   "source": [
    "colormap = plt.cm.RdBu\n",
    "plt.figure(figsize=(14,12))\n",
    "plt.title('Pearson Correlation of Features', y=1.05, size=15)\n",
    "sns.heatmap(base_predictions_train.astype(float).corr(),linewidths=0.1,vmax=1.0, \n",
    "            square=True, cmap=colormap, linecolor='white', annot=True)"
   ]
  },
  {
   "cell_type": "code",
   "execution_count": 66,
   "metadata": {},
   "outputs": [
    {
     "name": "stdout",
     "output_type": "stream",
     "text": [
      "0.8901674089701516\n"
     ]
    }
   ],
   "source": [
    "meta = xgb.XGBClassifier(max_depth=2)\n",
    "meta.fit(base_predictions_train,y_train)\n",
    "\n",
    "accuracies=cross_val_score(estimator=meta, X=base_predictions_train, y=y_train, cv=10, scoring='accuracy')\n",
    "print(accuracies.mean())"
   ]
  },
  {
   "cell_type": "code",
   "execution_count": null,
   "metadata": {},
   "outputs": [],
   "source": []
  }
 ],
 "metadata": {
  "kernelspec": {
   "display_name": "Python 3",
   "language": "python",
   "name": "python3"
  },
  "language_info": {
   "codemirror_mode": {
    "name": "ipython",
    "version": 3
   },
   "file_extension": ".py",
   "mimetype": "text/x-python",
   "name": "python",
   "nbconvert_exporter": "python",
   "pygments_lexer": "ipython3",
   "version": "3.6.4"
  }
 },
 "nbformat": 4,
 "nbformat_minor": 2
}
